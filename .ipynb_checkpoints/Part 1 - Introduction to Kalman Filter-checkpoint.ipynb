{
 "cells": [
  {
   "cell_type": "markdown",
   "id": "cb6b3d5e-9d1e-40e3-b8e4-6523383df4ed",
   "metadata": {},
   "source": [
    "# Part 1) Introduction to Kalman Filter"
   ]
  },
  {
   "cell_type": "code",
   "execution_count": 1,
   "id": "dd2b8f77-cd10-44ac-a564-94b7f80afdaa",
   "metadata": {},
   "outputs": [],
   "source": [
    "import numpy as np\n",
    "import matplotlib.pyplot as plt\n",
    "from scipy.stats import norm  # optional for PDFs or confidence intervals"
   ]
  },
  {
   "cell_type": "markdown",
   "id": "5bcaa46e-f3c7-4441-8592-4ef552990b98",
   "metadata": {},
   "source": [
    "## 1.1 - Why Do Kalman Filters Exist?"
   ]
  },
  {
   "cell_type": "markdown",
   "id": "572b24e3-ddc5-4531-949b-aec52ce8e739",
   "metadata": {},
   "source": [
    "**<ins>What problem were Kalman filters trying to solve?</ins>**\n",
    "\n",
    "In real-world systems — like satellites, aircraft, self-driving cars, and even phones — we often want to know something important about the system’s state. For example:\n",
    "\n",
    "- A spacecraft’s position and velocity\n",
    "- An aircraft’s pitch or roll angle\n",
    "- A robot’s location on a map\n",
    "\n",
    "But here’s the problem:\n",
    "\n",
    "We can’t measure the state perfectly.  \n",
    "Sensors are noisy.  \n",
    "Our mathematical models are not perfect either.  \n",
    "We only get measurements at discrete time intervals.\n",
    "\n",
    "So we face two big challenges:\n",
    "\n",
    "1. **Estimating the current state when we can't see it directly**\n",
    "2. **Filtering out the noise from measurements to make good decisions**\n",
    "\n",
    "<ins>What the Kalman filter solves</ins>:\n",
    "\n",
    "The Kalman Filter (KF) provides a mathematical way to:\n",
    "\n",
    "- Predict the system’s next state using a model (e.g., physics equations)\n",
    "- Update the prediction using real sensor measurements\n",
    "- Combine both optimally, by weighting each source of information based on how much noise or uncertainty it contains\n",
    "\n",
    "It does all this recursively, in real time, and with minimal memory.\n",
    "\n",
    "**<ins>Why it's so important</ins>**:\n",
    "\n",
    "- It's computationally efficient (only needs the current state and the latest measurement)\n",
    "- It gives the best possible estimate under Gaussian noise assumptions\n",
    "- It’s foundational in control systems, navigation, GNSS, robotics, computer vision, and more\n",
    "\n",
    "In short: The Kalman filter helps us know what’s really going on when all we have is noisy, partial, or uncertain data."
   ]
  },
  {
   "cell_type": "markdown",
   "id": "c7201c88-22ff-4e43-a0d2-c6fd5fe28442",
   "metadata": {},
   "source": [
    "## 1.2 - Basic Statistics"
   ]
  },
  {
   "cell_type": "markdown",
   "id": "ba4b24c0-07e5-4e76-a1a4-ce942c6c5f81",
   "metadata": {},
   "source": [
    "### 1.2.1 - Mean, Expected Value, Variance, Standard Deviation"
   ]
  },
  {
   "cell_type": "markdown",
   "id": "770b6b70-31df-4e9c-b613-ca48b5e4d2e0",
   "metadata": {},
   "source": [
    "#### Descriptive Stats\n",
    "\n",
    "For example, we have 10-value list as the **entire population**, so we can compute for **descriptive statistics** that will describe the trend within the population.\n",
    "\n",
    "Take note of the `ddof` parameter when using numpy:\n",
    "\n",
    "- Use `ddof=0` to divide by $N$, not $N - 1$\n",
    "- This gives the **true variance** and **standard deviation** of the dataset\n",
    "\n",
    "If we later treat the same dataset as a **sample** from a larger population, we would compute **inferential statistics** instead, using $ddof=1$ to divide by $N - 1$ (Bessel’s correction).\n",
    "\n",
    "The **mean** of a population is:\n",
    "\n",
    "$$\n",
    "\\mu = \\frac{1}{N} \\sum_{i=1}^{N} x_i\n",
    "$$\n",
    "\n",
    "The **population variance** is:\n",
    "\n",
    "$$\n",
    "\\sigma^2 = \\frac{1}{N} \\sum_{i=1}^{N} (x_i - \\mu)^2\n",
    "$$\n",
    "\n",
    "The **population standard deviation** is:\n",
    "\n",
    "$$\n",
    "\\sigma = \\sqrt{\\sigma^2}\n",
    "$$"
   ]
  },
  {
   "cell_type": "code",
   "execution_count": 2,
   "id": "7ec18050-b46b-43f5-9aef-d34934fea5a6",
   "metadata": {},
   "outputs": [
    {
     "name": "stdout",
     "output_type": "stream",
     "text": [
      "Data:        [0 1 2 3 4 5 6 7 8 9]\n",
      "Mean:        4.5\n",
      "Variance:    8.25\n",
      "Std Dev:     2.8722813232690143\n"
     ]
    }
   ],
   "source": [
    "# Step 1: Define a simple dataset\n",
    "data = np.array([0, 1, 2, 3, 4, 5, 6, 7, 8, 9])\n",
    "\n",
    "# Step 2: Compute descriptive statistics\n",
    "mean = np.mean(data)\n",
    "variance = np.var(data, ddof=0)     \n",
    "std_dev = np.std(data, ddof=0)       \n",
    "\n",
    "print(\"Data:       \", data)\n",
    "print(\"Mean:       \", mean)\n",
    "print(\"Variance:   \", variance)\n",
    "print(\"Std Dev:    \", std_dev)"
   ]
  },
  {
   "cell_type": "markdown",
   "id": "65a89ba7-4567-4907-bfe1-1956b1acea30",
   "metadata": {},
   "source": [
    "Since this dataset is a **complete population**, the computed mean:\r\n",
    "\r\n",
    "$$\r\n",
    "\\mu = \\frac{1}{10} \\sum_{i=0}^{9} x_i = 4.5\r\n",
    "$$\r\n",
    "\r\n",
    "is **exactly equal** to the expected value:\r\n",
    "\r\n",
    "$$\r\n",
    "\\mathbb{E}[X] = 4.5\r\n",
    "$$\r\n",
    "\r\n",
    "In general, $\\mathbb{E}[X]$ is a theoretical average over all possible values a random variable $X$ can take. If we only have a sample, then the sample mean is just an **estimate** of this expected value."
   ]
  },
  {
   "cell_type": "markdown",
   "id": "0d32bf31-2b8e-4008-92be-1a2a137becf2",
   "metadata": {},
   "source": [
    "#### Inferential Stats\n",
    "\n",
    "Now we treat the same dataset as a **sample** drawn from a larger population.  \n",
    "This allows us to compute **inferential statistics**, which are used to estimate the characteristics of the full population.\n",
    "\n",
    "Take note of the `ddof` parameter when using numpy:\n",
    "\n",
    "- Use `ddof=1` to divide by $N - 1$, not $N$\n",
    "- This applies **Bessel’s correction**, which corrects the bias in estimating population variance from a sample\n",
    "\n",
    "The **sample mean** is:\n",
    "\n",
    "$$\n",
    "\\bar{x} = \\frac{1}{n} \\sum_{i=1}^{n} x_i\n",
    "$$\n",
    "\n",
    "The **sample variance** is:\n",
    "\n",
    "$$\n",
    "s^2 = \\frac{1}{n - 1} \\sum_{i=1}^{n} (x_i - \\bar{x})^2\n",
    "$$\n",
    "\n",
    "The **sample standard deviation** is:\n",
    "\n",
    "$$\n",
    "s = \\sqrt{s^2}\n",
    "$$"
   ]
  },
  {
   "cell_type": "code",
   "execution_count": 3,
   "id": "468ce08d-dcfe-4606-80d3-02b7961bd1a7",
   "metadata": {},
   "outputs": [
    {
     "name": "stdout",
     "output_type": "stream",
     "text": [
      "Full Data (Population):  [0 1 2 3 4 5 6 7 8 9]\n",
      "Population Mean:         4.5\n",
      "Population Variance:     8.25\n",
      "Population Std Dev:      2.8722813232690143\n",
      "\n",
      "Sample Populstion (n=4):             [8 1 5 0 7]\n",
      "Sample Mean:                         4.2\n",
      "Sample Variance (unbiased):          12.7\n",
      "Sample Std Dev (unbiased):           3.5637059362410923\n",
      "Sample Variance (biased):            10.16\n",
      "Sample Std Dev (biased):             3.1874754901018454\n"
     ]
    }
   ],
   "source": [
    "# Step 1: Define a simple dataset (treated as full population)\n",
    "data = np.array([0, 1, 2, 3, 4, 5, 6, 7, 8, 9])\n",
    "\n",
    "# Step 2: Compute descriptive statistics for the full dataset\n",
    "mean = np.mean(data)\n",
    "variance = np.var(data, ddof=0)      # population variance\n",
    "std_dev = np.std(data, ddof=0)       # population std dev\n",
    "\n",
    "print(\"Full Data (Population): \", data)\n",
    "print(\"Population Mean:        \", mean)\n",
    "print(\"Population Variance:    \", variance)\n",
    "print(\"Population Std Dev:     \", std_dev)\n",
    "\n",
    "# Step 3: Inferential statistics — draw a sample from the population\n",
    "np.random.seed(42)  # for reproducibility\n",
    "sample = np.random.choice(data, size=5, replace=False)\n",
    "\n",
    "sample_mean = np.mean(sample)\n",
    "sample_variance_unbiased = np.var(sample, ddof=1)  \n",
    "sample_std_unbiased = np.std(sample, ddof=1)\n",
    "sample_variance_biased = np.var(sample, ddof=0)  \n",
    "sample_std_biased = np.std(sample, ddof=0)\n",
    "\n",
    "print(\"\\nSample Populstion (n=4):            \", sample)\n",
    "print(\"Sample Mean:                        \", sample_mean)\n",
    "print(\"Sample Variance (unbiased):         \", sample_variance_unbiased)\n",
    "print(\"Sample Std Dev (unbiased):          \", sample_std_unbiased)\n",
    "print(\"Sample Variance (biased):           \", sample_variance_biased)\n",
    "print(\"Sample Std Dev (biased):            \", sample_std_biased)"
   ]
  },
  {
   "cell_type": "markdown",
   "id": "d474bb82-87f4-49e9-8c20-ed278765b5d0",
   "metadata": {},
   "source": [
    "We compute both the **biased** and **unbiased** sample variance and standard deviation.\n",
    "\n",
    "- The **biased estimator** (using `ddof=0`) divides by $n$, and tends to **underestimate** the population variance.\n",
    "- The **unbiased estimator** (using `ddof=1`) applies **Bessel's correction**, dividing by $n - 1$ to correct for the bias introduced by using the sample mean.\n",
    "\n",
    "This correction ensures that:\n",
    "\n",
    "$$\n",
    "\\mathbb{E}[s^2] = \\sigma^2\n",
    "$$\n",
    "\n",
    "on average across many samples.\n",
    "\n",
    "As shown above, the sample variance and standard deviation with `ddof=1` are slightly larger — and often more accurate — than those computed with `ddof=0`."
   ]
  },
  {
   "cell_type": "markdown",
   "id": "566c367c-8b24-4ca3-b7b0-d196f938aeb7",
   "metadata": {},
   "source": [
    "### 1.2.2 - Normal Distribution"
   ]
  },
  {
   "cell_type": "markdown",
   "id": "65f75123-18a2-42bb-af63-66e7e99f073d",
   "metadata": {},
   "source": [
    "A **normal distribution** (also called Gaussian) is a continuous probability distribution  \n",
    "that is symmetric about its mean, with a bell-shaped curve.\n",
    "\n",
    "We generate 1000 random values from a normal distribution with:\n",
    "\n",
    "- Mean: $\\mu = 5$\n",
    "- Standard deviation: $\\sigma = 2$\n",
    "\n",
    "We plot a histogram of the sampled data and overlay the **true probability density function (PDF)**:\n",
    "\n",
    "$$\n",
    "f(x; \\mu, \\sigma^2) = \\frac{1}{\\sqrt{2\\pi\\sigma^2}} \\, \\exp\\left(-\\frac{(x - \\mu)^2}{2\\sigma^2}\\right)\n",
    "$$\n",
    "\n",
    "This visualizes the **empirical shape** of the distribution and compares it to the **ideal** bell curve.\n",
    "The **area under the curve is 1**, which corresponds to the total probability ($P=1$).  \n",
    "This means the PDF tells us how probability is **distributed** around the mean.\n",
    "\n",
    "For a normal distribution:\n",
    "\n",
    "- **68%** of the data lies within $\\mu \\pm 1\\sigma$  of the mean  \n",
    "- **95%** lies within $\\mu \\pm 2\\sigma$  \n",
    "- **99.7%** lies within $\\mu \\pm 3\\sigma$\n",
    "\n",
    "This rule illustrates how most values are concentrated near the mean,  \n",
    "with probability tapering off symmetrically in both directions.\n",
    "\n",
    "These intervals help us understand **uncertainty and confidence** when modeling or estimating data using a normal distribution."
   ]
  },
  {
   "cell_type": "code",
   "execution_count": 6,
   "id": "73c956a7-e806-4a7b-aab3-67429842f3fd",
   "metadata": {},
   "outputs": [
    {
     "data": {
      "image/png": "[encoded data removed]",
      "text/plain": [
       "<Figure size 800x400 with 1 Axes>"
      ]
     },
     "metadata": {},
     "output_type": "display_data"
    }
   ],
   "source": [
    "# Step 1: Generate random data from a normal distribution\n",
    "mu = 5      # mean\n",
    "sigma = 2   # standard deviation\n",
    "data = np.random.normal(loc=mu, scale=sigma, size=1000)\n",
    "\n",
    "# Step 2: Plot histogram and overlay the true PDF\n",
    "plt.figure(figsize=(8, 4))\n",
    "count, bins, _ = plt.hist(data, bins=30, density=True, alpha=0.6, color='skyblue', label='Sampled Data')\n",
    "\n",
    "# Step 3: Plot theoretical PDF\n",
    "x = np.linspace(min(bins), max(bins), 300)\n",
    "pdf = norm.pdf(x, mu, sigma)\n",
    "plt.plot(x, pdf, 'r', lw=2, label='True PDF (Normal)')\n",
    "\n",
    "plt.title(f\"Normal Distribution (μ={mu}, σ={sigma})\")\n",
    "plt.xlabel('Value')\n",
    "plt.ylabel('Probability Density')\n",
    "plt.legend()\n",
    "plt.grid(True)\n",
    "plt.tight_layout()\n",
    "plt.show()"
   ]
  },
  {
   "cell_type": "code",
   "execution_count": null,
   "id": "a57937ad-e2b8-4770-aaab-312680dde1a8",
   "metadata": {},
   "outputs": [],
   "source": []
  },
  {
   "cell_type": "code",
   "execution_count": null,
   "id": "d116cf63-5bce-4da7-bb1c-19223b8ec31a",
   "metadata": {},
   "outputs": [],
   "source": []
  },
  {
   "cell_type": "code",
   "execution_count": null,
   "id": "6c6c3947-682f-43d5-8959-08421843a18e",
   "metadata": {},
   "outputs": [],
   "source": []
  },
  {
   "cell_type": "code",
   "execution_count": null,
   "id": "c8ec1298-e6dc-415a-a547-b499523bef62",
   "metadata": {},
   "outputs": [],
   "source": []
  },
  {
   "cell_type": "code",
   "execution_count": null,
   "id": "578ee301-6d89-4ea2-82b5-e89df883ceca",
   "metadata": {},
   "outputs": [],
   "source": []
  },
  {
   "cell_type": "code",
   "execution_count": null,
   "id": "f8002800-88a3-443d-a756-d5b024f43a04",
   "metadata": {},
   "outputs": [],
   "source": []
  },
  {
   "cell_type": "code",
   "execution_count": null,
   "id": "5b0cdf12-ff4c-4c51-9701-59b888f5ae8d",
   "metadata": {},
   "outputs": [],
   "source": []
  },
  {
   "cell_type": "code",
   "execution_count": null,
   "id": "427cf6b1-dc13-42d2-a2aa-fa369166d241",
   "metadata": {},
   "outputs": [],
   "source": []
  },
  {
   "cell_type": "code",
   "execution_count": null,
   "id": "8d0a5857-ca26-43d6-abe3-f1ed8596d1de",
   "metadata": {},
   "outputs": [],
   "source": []
  },
  {
   "cell_type": "code",
   "execution_count": null,
   "id": "db8e3e23-2d7e-4a09-9551-5c3c17fe07fb",
   "metadata": {},
   "outputs": [],
   "source": []
  },
  {
   "cell_type": "code",
   "execution_count": null,
   "id": "2a6eaf7c-0025-4ca2-a53f-64025180db0c",
   "metadata": {},
   "outputs": [],
   "source": []
  },
  {
   "cell_type": "code",
   "execution_count": null,
   "id": "84171b23-3fab-4e97-aca2-e10d59eee84c",
   "metadata": {},
   "outputs": [],
   "source": []
  },
  {
   "cell_type": "code",
   "execution_count": null,
   "id": "4f97f103-982b-422a-8cc4-9fdc4f6f2f68",
   "metadata": {},
   "outputs": [],
   "source": []
  }
 ],
 "metadata": {
  "kernelspec": {
   "display_name": "Python 3 (ipykernel)",
   "language": "python",
   "name": "python3"
  },
  "language_info": {
   "codemirror_mode": {
    "name": "ipython",
    "version": 3
   },
   "file_extension": ".py",
   "mimetype": "text/x-python",
   "name": "python",
   "nbconvert_exporter": "python",
   "pygments_lexer": "ipython3",
   "version": "3.11.9"
  }
 },
 "nbformat": 4,
 "nbformat_minor": 5
}
